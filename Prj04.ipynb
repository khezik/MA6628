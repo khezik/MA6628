{
 "cells": [
  {
   "cell_type": "markdown",
   "metadata": {
    "collapsed": false
   },
   "source": [
    "# Prj04\n",
    "Consider the following data sets:\n",
    "\n",
    "- Today: Sep 27, 2018\n",
    "- Spot price: 290.68\n",
    "- Maturity: Dec 31, 2018\n",
    "- Strike: 288\n",
    "- rate: 0.02 (from https://www.treasury.gov/resource-center/data-chart-center/interest-rates/Pages/TextView.aspx?data=yield)\n",
    "- Market call price: 9.23\n",
    "\n",
    "## Todo\n",
    "1.If the volatility is $30\\%$, what is the difference between BSM call price and market call price?\n",
    "2.Compute the implied volatility."
   ]
  },
  {
   "cell_type": "code",
   "execution_count": 2,
   "metadata": {
    "collapsed": false
   },
   "outputs": [
   ],
   "source": [
    "import numpy as np\n",
    "import scipy.stats as ss\n",
    "import time \n",
    "import math\n",
    "\n",
    "def d1f(St, K, t, T, r, sigma):\n",
    "    d1 = (math.log(St / K) + (r + 0.5 * sigma ** 2)\n",
    "          * (T - t)) / (sigma * math.sqrt(T - t))\n",
    "    return d1\n",
    "\n",
    "def BSM_call_value(St, K, t, T, r, sigma):\n",
    "    d1 = d1f(St, K, t, T, r, sigma)\n",
    "    d2 = d1 - sigma * math.sqrt(T - t)\n",
    "    call_value = St * ss.norm.cdf(d1) - math.exp(-r * (T - t)) * K * ss.norm.cdf(d2)\n",
    "    return call_value"
   ]
  },
  {
   "cell_type": "code",
   "execution_count": 5,
   "metadata": {
    "collapsed": false
   },
   "outputs": [
    {
     "name": "stdout",
     "output_type": "stream",
     "text": [
      "The difference between BSM call price and market call price is 10.539938\n"
     ]
    }
   ],
   "source": [
    "#Part 1\n",
    "T0 = np.datetime64('2018-09-27')\n",
    "Tm = np.datetime64('2018-12-31')\n",
    "T = (Tm - T0)/np.timedelta64(1,'D')/365\n",
    "t = 0\n",
    "r = 0.02\n",
    "St = 290.68\n",
    "K = 288\n",
    "sigma = 0.3\n",
    "\n",
    "call_value = BSM_call_value(St, K, t, T, r, sigma)\n",
    "print('The difference between BSM call price and market call price is %f' %np.abs(call_value - 9.23))"
   ]
  },
  {
   "cell_type": "code",
   "execution_count": 8,
   "metadata": {
    "collapsed": false
   },
   "outputs": [
    {
     "name": "stdout",
     "output_type": "stream",
     "text": [
      "Optimization terminated successfully.\n",
      "         Current function value: 0.000000\n",
      "         Iterations: 15\n",
      "         Function evaluations: 30\n",
      "Implied volatility is 0.118242\n"
     ]
    }
   ],
   "source": [
    "#Part 2\n",
    "from ImpliedVolatility import IVolBsm\n",
    "from scipy import optimize\n",
    "\n",
    "def IVolBsm(St, K, T, r, P0):\n",
    "    InitVol = .3\n",
    "    error = lambda sigma: (BSM_call_value(St, K, t, T, r, sigma) - P0)**2\n",
    "    opt = optimize.fmin(error, InitVol);\n",
    "    return opt[0]\n",
    "\n",
    "P0 = 9.23\n",
    "print('Implied volatility is %f' %IVolBsm(St, K, T, r, P0))"
   ]
  },
  {
   "cell_type": "code",
   "execution_count": 0,
   "metadata": {
    "collapsed": false
   },
   "outputs": [
   ],
   "source": [
   ]
  }
 ],
 "metadata": {
  "kernelspec": {
   "display_name": "Python 3 (Anaconda 5)",
   "language": "python",
   "name": "anaconda5"
  }
 },
 "nbformat": 4,
 "nbformat_minor": 0
}